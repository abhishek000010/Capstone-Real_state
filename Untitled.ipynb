{
 "cells": [
  {
   "cell_type": "code",
   "execution_count": 20,
   "id": "1821dc1d",
   "metadata": {},
   "outputs": [],
   "source": [
    "import numpy as np\n",
    "import pandas as pd\n",
    "\n",
    "from sklearn.model_selection import KFold, cross_val_score\n",
    "from sklearn.linear_model import LinearRegression,Ridge\n",
    "from sklearn.pipeline import Pipeline\n",
    "from sklearn.preprocessing import OneHotEncoder, StandardScaler, OrdinalEncoder\n",
    "from sklearn.compose import ColumnTransformer\n",
    "\n",
    "from sklearn.model_selection import train_test_split\n",
    "from sklearn.metrics import mean_absolute_error\n",
    "\n",
    "from sklearn.decomposition import PCA"
   ]
  },
  {
   "cell_type": "code",
   "execution_count": 21,
   "id": "426d63df",
   "metadata": {},
   "outputs": [],
   "source": [
    "df = pd.read_csv('gurgaon_properties_post_feature_selection_v2.csv').drop(columns=['store room','floor_category','balcony'])"
   ]
  },
  {
   "cell_type": "code",
   "execution_count": 22,
   "id": "f30736fb",
   "metadata": {},
   "outputs": [
    {
     "data": {
      "text/html": [
       "<div>\n",
       "<style scoped>\n",
       "    .dataframe tbody tr th:only-of-type {\n",
       "        vertical-align: middle;\n",
       "    }\n",
       "\n",
       "    .dataframe tbody tr th {\n",
       "        vertical-align: top;\n",
       "    }\n",
       "\n",
       "    .dataframe thead th {\n",
       "        text-align: right;\n",
       "    }\n",
       "</style>\n",
       "<table border=\"1\" class=\"dataframe\">\n",
       "  <thead>\n",
       "    <tr style=\"text-align: right;\">\n",
       "      <th></th>\n",
       "      <th>property_type</th>\n",
       "      <th>sector</th>\n",
       "      <th>price</th>\n",
       "      <th>bedRoom</th>\n",
       "      <th>bathroom</th>\n",
       "      <th>agePossession</th>\n",
       "      <th>built_up_area</th>\n",
       "      <th>servant room</th>\n",
       "      <th>furnishing_type</th>\n",
       "      <th>luxury_category</th>\n",
       "    </tr>\n",
       "  </thead>\n",
       "  <tbody>\n",
       "    <tr>\n",
       "      <th>0</th>\n",
       "      <td>flat</td>\n",
       "      <td>sector 36</td>\n",
       "      <td>0.82</td>\n",
       "      <td>3.0</td>\n",
       "      <td>2.0</td>\n",
       "      <td>New Property</td>\n",
       "      <td>850.0</td>\n",
       "      <td>0.0</td>\n",
       "      <td>0.0</td>\n",
       "      <td>Low</td>\n",
       "    </tr>\n",
       "    <tr>\n",
       "      <th>1</th>\n",
       "      <td>flat</td>\n",
       "      <td>sector 89</td>\n",
       "      <td>0.95</td>\n",
       "      <td>2.0</td>\n",
       "      <td>2.0</td>\n",
       "      <td>New Property</td>\n",
       "      <td>1226.0</td>\n",
       "      <td>1.0</td>\n",
       "      <td>0.0</td>\n",
       "      <td>Low</td>\n",
       "    </tr>\n",
       "    <tr>\n",
       "      <th>2</th>\n",
       "      <td>flat</td>\n",
       "      <td>sohna road</td>\n",
       "      <td>0.32</td>\n",
       "      <td>2.0</td>\n",
       "      <td>2.0</td>\n",
       "      <td>New Property</td>\n",
       "      <td>1000.0</td>\n",
       "      <td>0.0</td>\n",
       "      <td>0.0</td>\n",
       "      <td>Low</td>\n",
       "    </tr>\n",
       "    <tr>\n",
       "      <th>3</th>\n",
       "      <td>flat</td>\n",
       "      <td>sector 92</td>\n",
       "      <td>1.60</td>\n",
       "      <td>3.0</td>\n",
       "      <td>4.0</td>\n",
       "      <td>Relatively New</td>\n",
       "      <td>1615.0</td>\n",
       "      <td>1.0</td>\n",
       "      <td>1.0</td>\n",
       "      <td>High</td>\n",
       "    </tr>\n",
       "    <tr>\n",
       "      <th>4</th>\n",
       "      <td>flat</td>\n",
       "      <td>sector 102</td>\n",
       "      <td>0.48</td>\n",
       "      <td>2.0</td>\n",
       "      <td>2.0</td>\n",
       "      <td>Relatively New</td>\n",
       "      <td>582.0</td>\n",
       "      <td>0.0</td>\n",
       "      <td>0.0</td>\n",
       "      <td>High</td>\n",
       "    </tr>\n",
       "  </tbody>\n",
       "</table>\n",
       "</div>"
      ],
      "text/plain": [
       "  property_type      sector  price  bedRoom  bathroom   agePossession  \\\n",
       "0          flat   sector 36   0.82      3.0       2.0    New Property   \n",
       "1          flat   sector 89   0.95      2.0       2.0    New Property   \n",
       "2          flat  sohna road   0.32      2.0       2.0    New Property   \n",
       "3          flat   sector 92   1.60      3.0       4.0  Relatively New   \n",
       "4          flat  sector 102   0.48      2.0       2.0  Relatively New   \n",
       "\n",
       "   built_up_area  servant room  furnishing_type luxury_category  \n",
       "0          850.0           0.0              0.0             Low  \n",
       "1         1226.0           1.0              0.0             Low  \n",
       "2         1000.0           0.0              0.0             Low  \n",
       "3         1615.0           1.0              1.0            High  \n",
       "4          582.0           0.0              0.0            High  "
      ]
     },
     "execution_count": 22,
     "metadata": {},
     "output_type": "execute_result"
    }
   ],
   "source": [
    "df.head()"
   ]
  },
  {
   "cell_type": "code",
   "execution_count": 23,
   "id": "ef14ac00",
   "metadata": {},
   "outputs": [],
   "source": [
    "df['agePossession'] = df['agePossession'].replace(\n",
    "    {\n",
    "        'Relatively New':'new',\n",
    "        'Moderately Old':'old',\n",
    "        'New Property' : 'new',\n",
    "        'Old Property' : 'old',\n",
    "        'Under Construction' : 'under construction'\n",
    "    }\n",
    ")"
   ]
  },
  {
   "cell_type": "code",
   "execution_count": 25,
   "id": "bfceaa82",
   "metadata": {},
   "outputs": [
    {
     "data": {
      "text/html": [
       "<div>\n",
       "<style scoped>\n",
       "    .dataframe tbody tr th:only-of-type {\n",
       "        vertical-align: middle;\n",
       "    }\n",
       "\n",
       "    .dataframe tbody tr th {\n",
       "        vertical-align: top;\n",
       "    }\n",
       "\n",
       "    .dataframe thead th {\n",
       "        text-align: right;\n",
       "    }\n",
       "</style>\n",
       "<table border=\"1\" class=\"dataframe\">\n",
       "  <thead>\n",
       "    <tr style=\"text-align: right;\">\n",
       "      <th></th>\n",
       "      <th>property_type</th>\n",
       "      <th>sector</th>\n",
       "      <th>price</th>\n",
       "      <th>bedRoom</th>\n",
       "      <th>bathroom</th>\n",
       "      <th>agePossession</th>\n",
       "      <th>built_up_area</th>\n",
       "      <th>servant room</th>\n",
       "      <th>furnishing_type</th>\n",
       "      <th>luxury_category</th>\n",
       "    </tr>\n",
       "  </thead>\n",
       "  <tbody>\n",
       "    <tr>\n",
       "      <th>0</th>\n",
       "      <td>flat</td>\n",
       "      <td>sector 36</td>\n",
       "      <td>0.82</td>\n",
       "      <td>3.0</td>\n",
       "      <td>2.0</td>\n",
       "      <td>new</td>\n",
       "      <td>850.0</td>\n",
       "      <td>0.0</td>\n",
       "      <td>0.0</td>\n",
       "      <td>Low</td>\n",
       "    </tr>\n",
       "    <tr>\n",
       "      <th>1</th>\n",
       "      <td>flat</td>\n",
       "      <td>sector 89</td>\n",
       "      <td>0.95</td>\n",
       "      <td>2.0</td>\n",
       "      <td>2.0</td>\n",
       "      <td>new</td>\n",
       "      <td>1226.0</td>\n",
       "      <td>1.0</td>\n",
       "      <td>0.0</td>\n",
       "      <td>Low</td>\n",
       "    </tr>\n",
       "    <tr>\n",
       "      <th>2</th>\n",
       "      <td>flat</td>\n",
       "      <td>sohna road</td>\n",
       "      <td>0.32</td>\n",
       "      <td>2.0</td>\n",
       "      <td>2.0</td>\n",
       "      <td>new</td>\n",
       "      <td>1000.0</td>\n",
       "      <td>0.0</td>\n",
       "      <td>0.0</td>\n",
       "      <td>Low</td>\n",
       "    </tr>\n",
       "    <tr>\n",
       "      <th>3</th>\n",
       "      <td>flat</td>\n",
       "      <td>sector 92</td>\n",
       "      <td>1.60</td>\n",
       "      <td>3.0</td>\n",
       "      <td>4.0</td>\n",
       "      <td>new</td>\n",
       "      <td>1615.0</td>\n",
       "      <td>1.0</td>\n",
       "      <td>1.0</td>\n",
       "      <td>High</td>\n",
       "    </tr>\n",
       "    <tr>\n",
       "      <th>4</th>\n",
       "      <td>flat</td>\n",
       "      <td>sector 102</td>\n",
       "      <td>0.48</td>\n",
       "      <td>2.0</td>\n",
       "      <td>2.0</td>\n",
       "      <td>new</td>\n",
       "      <td>582.0</td>\n",
       "      <td>0.0</td>\n",
       "      <td>0.0</td>\n",
       "      <td>High</td>\n",
       "    </tr>\n",
       "  </tbody>\n",
       "</table>\n",
       "</div>"
      ],
      "text/plain": [
       "  property_type      sector  price  bedRoom  bathroom agePossession  \\\n",
       "0          flat   sector 36   0.82      3.0       2.0           new   \n",
       "1          flat   sector 89   0.95      2.0       2.0           new   \n",
       "2          flat  sohna road   0.32      2.0       2.0           new   \n",
       "3          flat   sector 92   1.60      3.0       4.0           new   \n",
       "4          flat  sector 102   0.48      2.0       2.0           new   \n",
       "\n",
       "   built_up_area  servant room  furnishing_type luxury_category  \n",
       "0          850.0           0.0              0.0             Low  \n",
       "1         1226.0           1.0              0.0             Low  \n",
       "2         1000.0           0.0              0.0             Low  \n",
       "3         1615.0           1.0              1.0            High  \n",
       "4          582.0           0.0              0.0            High  "
      ]
     },
     "execution_count": 25,
     "metadata": {},
     "output_type": "execute_result"
    }
   ],
   "source": [
    "df.head()"
   ]
  },
  {
   "cell_type": "code",
   "execution_count": 26,
   "id": "3b024a78",
   "metadata": {},
   "outputs": [],
   "source": [
    "df['property_type'] = df['property_type'].replace({'flat':0,'house':1})"
   ]
  },
  {
   "cell_type": "code",
   "execution_count": 27,
   "id": "5ef89b5a",
   "metadata": {},
   "outputs": [],
   "source": [
    "df['luxury_category'] = df['luxury_category'].replace({'Low' : 0 , 'Medium' :1 , 'High':2})"
   ]
  },
  {
   "cell_type": "code",
   "execution_count": 28,
   "id": "fb4fa49b",
   "metadata": {},
   "outputs": [],
   "source": [
    "new_df = pd.get_dummies(df , columns= [ 'sector' , 'agePossession'] , drop_first=True)"
   ]
  },
  {
   "cell_type": "code",
   "execution_count": 29,
   "id": "aa69f64c",
   "metadata": {},
   "outputs": [],
   "source": [
    "x = new_df.drop(columns=['price'])\n",
    "y = new_df['price']"
   ]
  },
  {
   "cell_type": "code",
   "execution_count": 30,
   "id": "79ada75c",
   "metadata": {},
   "outputs": [],
   "source": [
    "y_log = np.log1p(y)"
   ]
  },
  {
   "cell_type": "code",
   "execution_count": 31,
   "id": "92602ac6",
   "metadata": {},
   "outputs": [
    {
     "data": {
      "text/plain": [
       "0       0.598837\n",
       "1       0.667829\n",
       "2       0.277632\n",
       "3       0.955511\n",
       "4       0.392042\n",
       "          ...   \n",
       "3549    0.314811\n",
       "3550    1.945910\n",
       "3551    0.470004\n",
       "3552    2.803360\n",
       "3553    1.022451\n",
       "Name: price, Length: 3554, dtype: float64"
      ]
     },
     "execution_count": 31,
     "metadata": {},
     "output_type": "execute_result"
    }
   ],
   "source": [
    "y_log"
   ]
  },
  {
   "cell_type": "code",
   "execution_count": 32,
   "id": "0970b567",
   "metadata": {},
   "outputs": [],
   "source": [
    "scaler = StandardScaler()\n",
    "x_scaled = scaler.fit_transform(x)"
   ]
  },
  {
   "cell_type": "code",
   "execution_count": 33,
   "id": "b2e2fb1d",
   "metadata": {},
   "outputs": [],
   "source": [
    "kfold = KFold(n_splits=10 , shuffle=True , random_state=42)\n",
    "scores= cross_val_score(LinearRegression() , x_scaled , y_log , cv = kfold , scoring='r2')"
   ]
  },
  {
   "cell_type": "code",
   "execution_count": 34,
   "id": "73acb418",
   "metadata": {},
   "outputs": [
    {
     "data": {
      "text/plain": [
       "0.8512613057405426"
      ]
     },
     "execution_count": 34,
     "metadata": {},
     "output_type": "execute_result"
    }
   ],
   "source": [
    "scores.mean()"
   ]
  },
  {
   "cell_type": "code",
   "execution_count": 35,
   "id": "1ab6304c",
   "metadata": {},
   "outputs": [
    {
     "data": {
      "text/plain": [
       "0.016992929105286242"
      ]
     },
     "execution_count": 35,
     "metadata": {},
     "output_type": "execute_result"
    }
   ],
   "source": [
    "scores.std()"
   ]
  },
  {
   "cell_type": "code",
   "execution_count": 36,
   "id": "7ec29bbe",
   "metadata": {},
   "outputs": [],
   "source": [
    "lr = LinearRegression()\n",
    "ridge = Ridge(alpha=0.0001)"
   ]
  },
  {
   "cell_type": "code",
   "execution_count": 37,
   "id": "6aaa0869",
   "metadata": {},
   "outputs": [
    {
     "data": {
      "text/html": [
       "<style>#sk-container-id-1 {color: black;}#sk-container-id-1 pre{padding: 0;}#sk-container-id-1 div.sk-toggleable {background-color: white;}#sk-container-id-1 label.sk-toggleable__label {cursor: pointer;display: block;width: 100%;margin-bottom: 0;padding: 0.3em;box-sizing: border-box;text-align: center;}#sk-container-id-1 label.sk-toggleable__label-arrow:before {content: \"▸\";float: left;margin-right: 0.25em;color: #696969;}#sk-container-id-1 label.sk-toggleable__label-arrow:hover:before {color: black;}#sk-container-id-1 div.sk-estimator:hover label.sk-toggleable__label-arrow:before {color: black;}#sk-container-id-1 div.sk-toggleable__content {max-height: 0;max-width: 0;overflow: hidden;text-align: left;background-color: #f0f8ff;}#sk-container-id-1 div.sk-toggleable__content pre {margin: 0.2em;color: black;border-radius: 0.25em;background-color: #f0f8ff;}#sk-container-id-1 input.sk-toggleable__control:checked~div.sk-toggleable__content {max-height: 200px;max-width: 100%;overflow: auto;}#sk-container-id-1 input.sk-toggleable__control:checked~label.sk-toggleable__label-arrow:before {content: \"▾\";}#sk-container-id-1 div.sk-estimator input.sk-toggleable__control:checked~label.sk-toggleable__label {background-color: #d4ebff;}#sk-container-id-1 div.sk-label input.sk-toggleable__control:checked~label.sk-toggleable__label {background-color: #d4ebff;}#sk-container-id-1 input.sk-hidden--visually {border: 0;clip: rect(1px 1px 1px 1px);clip: rect(1px, 1px, 1px, 1px);height: 1px;margin: -1px;overflow: hidden;padding: 0;position: absolute;width: 1px;}#sk-container-id-1 div.sk-estimator {font-family: monospace;background-color: #f0f8ff;border: 1px dotted black;border-radius: 0.25em;box-sizing: border-box;margin-bottom: 0.5em;}#sk-container-id-1 div.sk-estimator:hover {background-color: #d4ebff;}#sk-container-id-1 div.sk-parallel-item::after {content: \"\";width: 100%;border-bottom: 1px solid gray;flex-grow: 1;}#sk-container-id-1 div.sk-label:hover label.sk-toggleable__label {background-color: #d4ebff;}#sk-container-id-1 div.sk-serial::before {content: \"\";position: absolute;border-left: 1px solid gray;box-sizing: border-box;top: 0;bottom: 0;left: 50%;z-index: 0;}#sk-container-id-1 div.sk-serial {display: flex;flex-direction: column;align-items: center;background-color: white;padding-right: 0.2em;padding-left: 0.2em;position: relative;}#sk-container-id-1 div.sk-item {position: relative;z-index: 1;}#sk-container-id-1 div.sk-parallel {display: flex;align-items: stretch;justify-content: center;background-color: white;position: relative;}#sk-container-id-1 div.sk-item::before, #sk-container-id-1 div.sk-parallel-item::before {content: \"\";position: absolute;border-left: 1px solid gray;box-sizing: border-box;top: 0;bottom: 0;left: 50%;z-index: -1;}#sk-container-id-1 div.sk-parallel-item {display: flex;flex-direction: column;z-index: 1;position: relative;background-color: white;}#sk-container-id-1 div.sk-parallel-item:first-child::after {align-self: flex-end;width: 50%;}#sk-container-id-1 div.sk-parallel-item:last-child::after {align-self: flex-start;width: 50%;}#sk-container-id-1 div.sk-parallel-item:only-child::after {width: 0;}#sk-container-id-1 div.sk-dashed-wrapped {border: 1px dashed gray;margin: 0 0.4em 0.5em 0.4em;box-sizing: border-box;padding-bottom: 0.4em;background-color: white;}#sk-container-id-1 div.sk-label label {font-family: monospace;font-weight: bold;display: inline-block;line-height: 1.2em;}#sk-container-id-1 div.sk-label-container {text-align: center;}#sk-container-id-1 div.sk-container {/* jupyter's `normalize.less` sets `[hidden] { display: none; }` but bootstrap.min.css set `[hidden] { display: none !important; }` so we also need the `!important` here to be able to override the default hidden behavior on the sphinx rendered scikit-learn.org. See: https://github.com/scikit-learn/scikit-learn/issues/21755 */display: inline-block !important;position: relative;}#sk-container-id-1 div.sk-text-repr-fallback {display: none;}</style><div id=\"sk-container-id-1\" class=\"sk-top-container\"><div class=\"sk-text-repr-fallback\"><pre>LinearRegression()</pre><b>In a Jupyter environment, please rerun this cell to show the HTML representation or trust the notebook. <br />On GitHub, the HTML representation is unable to render, please try loading this page with nbviewer.org.</b></div><div class=\"sk-container\" hidden><div class=\"sk-item\"><div class=\"sk-estimator sk-toggleable\"><input class=\"sk-toggleable__control sk-hidden--visually\" id=\"sk-estimator-id-1\" type=\"checkbox\" checked><label for=\"sk-estimator-id-1\" class=\"sk-toggleable__label sk-toggleable__label-arrow\">LinearRegression</label><div class=\"sk-toggleable__content\"><pre>LinearRegression()</pre></div></div></div></div></div>"
      ],
      "text/plain": [
       "LinearRegression()"
      ]
     },
     "execution_count": 37,
     "metadata": {},
     "output_type": "execute_result"
    }
   ],
   "source": [
    "lr.fit(x_scaled , y_log)"
   ]
  },
  {
   "cell_type": "code",
   "execution_count": 38,
   "id": "abdeecde",
   "metadata": {},
   "outputs": [
    {
     "data": {
      "text/html": [
       "<style>#sk-container-id-2 {color: black;}#sk-container-id-2 pre{padding: 0;}#sk-container-id-2 div.sk-toggleable {background-color: white;}#sk-container-id-2 label.sk-toggleable__label {cursor: pointer;display: block;width: 100%;margin-bottom: 0;padding: 0.3em;box-sizing: border-box;text-align: center;}#sk-container-id-2 label.sk-toggleable__label-arrow:before {content: \"▸\";float: left;margin-right: 0.25em;color: #696969;}#sk-container-id-2 label.sk-toggleable__label-arrow:hover:before {color: black;}#sk-container-id-2 div.sk-estimator:hover label.sk-toggleable__label-arrow:before {color: black;}#sk-container-id-2 div.sk-toggleable__content {max-height: 0;max-width: 0;overflow: hidden;text-align: left;background-color: #f0f8ff;}#sk-container-id-2 div.sk-toggleable__content pre {margin: 0.2em;color: black;border-radius: 0.25em;background-color: #f0f8ff;}#sk-container-id-2 input.sk-toggleable__control:checked~div.sk-toggleable__content {max-height: 200px;max-width: 100%;overflow: auto;}#sk-container-id-2 input.sk-toggleable__control:checked~label.sk-toggleable__label-arrow:before {content: \"▾\";}#sk-container-id-2 div.sk-estimator input.sk-toggleable__control:checked~label.sk-toggleable__label {background-color: #d4ebff;}#sk-container-id-2 div.sk-label input.sk-toggleable__control:checked~label.sk-toggleable__label {background-color: #d4ebff;}#sk-container-id-2 input.sk-hidden--visually {border: 0;clip: rect(1px 1px 1px 1px);clip: rect(1px, 1px, 1px, 1px);height: 1px;margin: -1px;overflow: hidden;padding: 0;position: absolute;width: 1px;}#sk-container-id-2 div.sk-estimator {font-family: monospace;background-color: #f0f8ff;border: 1px dotted black;border-radius: 0.25em;box-sizing: border-box;margin-bottom: 0.5em;}#sk-container-id-2 div.sk-estimator:hover {background-color: #d4ebff;}#sk-container-id-2 div.sk-parallel-item::after {content: \"\";width: 100%;border-bottom: 1px solid gray;flex-grow: 1;}#sk-container-id-2 div.sk-label:hover label.sk-toggleable__label {background-color: #d4ebff;}#sk-container-id-2 div.sk-serial::before {content: \"\";position: absolute;border-left: 1px solid gray;box-sizing: border-box;top: 0;bottom: 0;left: 50%;z-index: 0;}#sk-container-id-2 div.sk-serial {display: flex;flex-direction: column;align-items: center;background-color: white;padding-right: 0.2em;padding-left: 0.2em;position: relative;}#sk-container-id-2 div.sk-item {position: relative;z-index: 1;}#sk-container-id-2 div.sk-parallel {display: flex;align-items: stretch;justify-content: center;background-color: white;position: relative;}#sk-container-id-2 div.sk-item::before, #sk-container-id-2 div.sk-parallel-item::before {content: \"\";position: absolute;border-left: 1px solid gray;box-sizing: border-box;top: 0;bottom: 0;left: 50%;z-index: -1;}#sk-container-id-2 div.sk-parallel-item {display: flex;flex-direction: column;z-index: 1;position: relative;background-color: white;}#sk-container-id-2 div.sk-parallel-item:first-child::after {align-self: flex-end;width: 50%;}#sk-container-id-2 div.sk-parallel-item:last-child::after {align-self: flex-start;width: 50%;}#sk-container-id-2 div.sk-parallel-item:only-child::after {width: 0;}#sk-container-id-2 div.sk-dashed-wrapped {border: 1px dashed gray;margin: 0 0.4em 0.5em 0.4em;box-sizing: border-box;padding-bottom: 0.4em;background-color: white;}#sk-container-id-2 div.sk-label label {font-family: monospace;font-weight: bold;display: inline-block;line-height: 1.2em;}#sk-container-id-2 div.sk-label-container {text-align: center;}#sk-container-id-2 div.sk-container {/* jupyter's `normalize.less` sets `[hidden] { display: none; }` but bootstrap.min.css set `[hidden] { display: none !important; }` so we also need the `!important` here to be able to override the default hidden behavior on the sphinx rendered scikit-learn.org. See: https://github.com/scikit-learn/scikit-learn/issues/21755 */display: inline-block !important;position: relative;}#sk-container-id-2 div.sk-text-repr-fallback {display: none;}</style><div id=\"sk-container-id-2\" class=\"sk-top-container\"><div class=\"sk-text-repr-fallback\"><pre>Ridge(alpha=0.0001)</pre><b>In a Jupyter environment, please rerun this cell to show the HTML representation or trust the notebook. <br />On GitHub, the HTML representation is unable to render, please try loading this page with nbviewer.org.</b></div><div class=\"sk-container\" hidden><div class=\"sk-item\"><div class=\"sk-estimator sk-toggleable\"><input class=\"sk-toggleable__control sk-hidden--visually\" id=\"sk-estimator-id-2\" type=\"checkbox\" checked><label for=\"sk-estimator-id-2\" class=\"sk-toggleable__label sk-toggleable__label-arrow\">Ridge</label><div class=\"sk-toggleable__content\"><pre>Ridge(alpha=0.0001)</pre></div></div></div></div></div>"
      ],
      "text/plain": [
       "Ridge(alpha=0.0001)"
      ]
     },
     "execution_count": 38,
     "metadata": {},
     "output_type": "execute_result"
    }
   ],
   "source": [
    "ridge.fit(x_scaled , y_log)"
   ]
  },
  {
   "cell_type": "code",
   "execution_count": 40,
   "id": "e9c30d17",
   "metadata": {},
   "outputs": [],
   "source": [
    "coef_df = pd.DataFrame(ridge.coef_.reshape(1 ,112) , columns=x.columns).stack().reset_index().drop(columns= ['level_0']).rename(columns = {'level1':'feature' , 0:'coef'})"
   ]
  },
  {
   "cell_type": "code",
   "execution_count": 41,
   "id": "d1bd73bf",
   "metadata": {},
   "outputs": [
    {
     "data": {
      "text/html": [
       "<div>\n",
       "<style scoped>\n",
       "    .dataframe tbody tr th:only-of-type {\n",
       "        vertical-align: middle;\n",
       "    }\n",
       "\n",
       "    .dataframe tbody tr th {\n",
       "        vertical-align: top;\n",
       "    }\n",
       "\n",
       "    .dataframe thead th {\n",
       "        text-align: right;\n",
       "    }\n",
       "</style>\n",
       "<table border=\"1\" class=\"dataframe\">\n",
       "  <thead>\n",
       "    <tr style=\"text-align: right;\">\n",
       "      <th></th>\n",
       "      <th>level_1</th>\n",
       "      <th>coef</th>\n",
       "    </tr>\n",
       "  </thead>\n",
       "  <tbody>\n",
       "    <tr>\n",
       "      <th>0</th>\n",
       "      <td>property_type</td>\n",
       "      <td>0.120165</td>\n",
       "    </tr>\n",
       "    <tr>\n",
       "      <th>1</th>\n",
       "      <td>bedRoom</td>\n",
       "      <td>0.054002</td>\n",
       "    </tr>\n",
       "    <tr>\n",
       "      <th>2</th>\n",
       "      <td>bathroom</td>\n",
       "      <td>0.065119</td>\n",
       "    </tr>\n",
       "    <tr>\n",
       "      <th>3</th>\n",
       "      <td>built_up_area</td>\n",
       "      <td>0.210638</td>\n",
       "    </tr>\n",
       "    <tr>\n",
       "      <th>4</th>\n",
       "      <td>servant room</td>\n",
       "      <td>0.050946</td>\n",
       "    </tr>\n",
       "    <tr>\n",
       "      <th>...</th>\n",
       "      <td>...</td>\n",
       "      <td>...</td>\n",
       "    </tr>\n",
       "    <tr>\n",
       "      <th>107</th>\n",
       "      <td>sector_sector 95</td>\n",
       "      <td>-0.025222</td>\n",
       "    </tr>\n",
       "    <tr>\n",
       "      <th>108</th>\n",
       "      <td>sector_sector 99</td>\n",
       "      <td>-0.010312</td>\n",
       "    </tr>\n",
       "    <tr>\n",
       "      <th>109</th>\n",
       "      <td>sector_sohna road</td>\n",
       "      <td>-0.029515</td>\n",
       "    </tr>\n",
       "    <tr>\n",
       "      <th>110</th>\n",
       "      <td>agePossession_old</td>\n",
       "      <td>-0.007900</td>\n",
       "    </tr>\n",
       "    <tr>\n",
       "      <th>111</th>\n",
       "      <td>agePossession_under construction</td>\n",
       "      <td>0.015381</td>\n",
       "    </tr>\n",
       "  </tbody>\n",
       "</table>\n",
       "<p>112 rows × 2 columns</p>\n",
       "</div>"
      ],
      "text/plain": [
       "                              level_1      coef\n",
       "0                       property_type  0.120165\n",
       "1                             bedRoom  0.054002\n",
       "2                            bathroom  0.065119\n",
       "3                       built_up_area  0.210638\n",
       "4                        servant room  0.050946\n",
       "..                                ...       ...\n",
       "107                  sector_sector 95 -0.025222\n",
       "108                  sector_sector 99 -0.010312\n",
       "109                 sector_sohna road -0.029515\n",
       "110                 agePossession_old -0.007900\n",
       "111  agePossession_under construction  0.015381\n",
       "\n",
       "[112 rows x 2 columns]"
      ]
     },
     "execution_count": 41,
     "metadata": {},
     "output_type": "execute_result"
    }
   ],
   "source": [
    "coef_df"
   ]
  },
  {
   "cell_type": "code",
   "execution_count": 42,
   "id": "c2da62cf",
   "metadata": {},
   "outputs": [
    {
     "name": "stdout",
     "output_type": "stream",
     "text": [
      "                            OLS Regression Results                            \n",
      "==============================================================================\n",
      "Dep. Variable:                  price   R-squared:                       0.865\n",
      "Model:                            OLS   Adj. R-squared:                  0.860\n",
      "Method:                 Least Squares   F-statistic:                     196.7\n",
      "Date:                Sat, 14 Oct 2023   Prob (F-statistic):               0.00\n",
      "Time:                        00:38:25   Log-Likelihood:                 588.22\n",
      "No. Observations:                3554   AIC:                            -950.4\n",
      "Df Residuals:                    3441   BIC:                            -252.6\n",
      "Df Model:                         112                                         \n",
      "Covariance Type:            nonrobust                                         \n",
      "==============================================================================\n",
      "                 coef    std err          t      P>|t|      [0.025      0.975]\n",
      "------------------------------------------------------------------------------\n",
      "const          1.0464      0.003    299.336      0.000       1.040       1.053\n",
      "x1             0.1202      0.005     22.829      0.000       0.110       0.130\n",
      "x2             0.0540      0.007      8.196      0.000       0.041       0.067\n",
      "x3             0.0651      0.007      9.554      0.000       0.052       0.078\n",
      "x4             0.2106      0.005     41.763      0.000       0.201       0.221\n",
      "x5             0.0509      0.005     11.231      0.000       0.042       0.060\n",
      "x6             0.0083      0.004      2.038      0.042       0.000       0.016\n",
      "x7             0.0062      0.004      1.534      0.125      -0.002       0.014\n",
      "x8             0.0098      0.006      1.551      0.121      -0.003       0.022\n",
      "x9            -0.0227      0.008     -2.922      0.004      -0.038      -0.007\n",
      "x10           -0.0052      0.005     -1.116      0.264      -0.014       0.004\n",
      "x11            0.0052      0.005      1.088      0.277      -0.004       0.015\n",
      "x12            0.0270      0.013      2.049      0.041       0.001       0.053\n",
      "x13           -0.0029      0.009     -0.332      0.740      -0.020       0.014\n",
      "x14            0.0020      0.011      0.184      0.854      -0.019       0.023\n",
      "x15           -0.0194      0.007     -2.926      0.003      -0.032      -0.006\n",
      "x16            0.0006      0.008      0.068      0.946      -0.016       0.017\n",
      "x17           -0.0130      0.010     -1.283      0.200      -0.033       0.007\n",
      "x18            0.0168      0.010      1.674      0.094      -0.003       0.037\n",
      "x19            0.0261      0.012      2.182      0.029       0.003       0.050\n",
      "x20           -0.0150      0.006     -2.442      0.015      -0.027      -0.003\n",
      "x21            0.0087      0.007      1.262      0.207      -0.005       0.022\n",
      "x22            0.0162      0.007      2.392      0.017       0.003       0.030\n",
      "x23            0.0308      0.007      4.445      0.000       0.017       0.044\n",
      "x24            0.0322      0.009      3.644      0.000       0.015       0.049\n",
      "x25           -0.0195      0.008     -2.469      0.014      -0.035      -0.004\n",
      "x26           -0.0123      0.005     -2.372      0.018      -0.022      -0.002\n",
      "x27            0.0287      0.006      4.504      0.000       0.016       0.041\n",
      "x28            0.0033      0.005      0.707      0.480      -0.006       0.012\n",
      "x29            0.0139      0.005      2.624      0.009       0.004       0.024\n",
      "x30            0.0067      0.010      0.651      0.515      -0.014       0.027\n",
      "x31           -0.0094      0.005     -2.022      0.043      -0.019      -0.000\n",
      "x32            0.0355      0.007      5.395      0.000       0.023       0.048\n",
      "x33            0.0022      0.006      0.383      0.702      -0.009       0.013\n",
      "x34            0.0177      0.007      2.678      0.007       0.005       0.031\n",
      "x35            0.0576      0.008      6.842      0.000       0.041       0.074\n",
      "x36            0.0739      0.009      8.494      0.000       0.057       0.091\n",
      "x37            0.0067      0.004      1.712      0.087      -0.001       0.014\n",
      "x38            0.0419      0.009      4.908      0.000       0.025       0.059\n",
      "x39           -0.0127      0.007     -1.804      0.071      -0.027       0.001\n",
      "x40            0.0063      0.004      1.398      0.162      -0.003       0.015\n",
      "x41            0.0225      0.005      4.243      0.000       0.012       0.033\n",
      "x42            0.0260      0.011      2.443      0.015       0.005       0.047\n",
      "x43            0.0025      0.007      0.367      0.713      -0.011       0.016\n",
      "x44           -0.0115      0.010     -1.201      0.230      -0.030       0.007\n",
      "x45            0.0011      0.010      0.110      0.912      -0.019       0.021\n",
      "x46            0.0121      0.005      2.291      0.022       0.002       0.023\n",
      "x47            0.0026      0.005      0.474      0.635      -0.008       0.013\n",
      "x48           -0.0208      0.009     -2.286      0.022      -0.039      -0.003\n",
      "x49            0.0077      0.004      1.701      0.089      -0.001       0.016\n",
      "x50            0.0168      0.005      3.074      0.002       0.006       0.027\n",
      "x51            0.0604      0.010      5.977      0.000       0.041       0.080\n",
      "x52            0.0270      0.005      5.397      0.000       0.017       0.037\n",
      "x53            0.0159      0.005      2.898      0.004       0.005       0.027\n",
      "x54            0.0129      0.006      2.106      0.035       0.001       0.025\n",
      "x55            0.0542      0.010      5.476      0.000       0.035       0.074\n",
      "x56            0.0317      0.009      3.509      0.000       0.014       0.049\n",
      "x57           -0.0172      0.007     -2.568      0.010      -0.030      -0.004\n",
      "x58            0.0718      0.010      6.921      0.000       0.051       0.092\n",
      "x59            0.0002      0.005      0.044      0.965      -0.009       0.010\n",
      "x60            0.0048      0.006      0.830      0.407      -0.007       0.016\n",
      "x61            0.0478      0.006      8.223      0.000       0.036       0.059\n",
      "x62            0.0456      0.007      6.273      0.000       0.031       0.060\n",
      "x63            0.0126      0.005      2.382      0.017       0.002       0.023\n",
      "x64            0.0119      0.010      1.223      0.221      -0.007       0.031\n",
      "x65            0.0252      0.007      3.616      0.000       0.012       0.039\n",
      "x66            0.0236      0.005      4.908      0.000       0.014       0.033\n",
      "x67            0.0318      0.005      6.431      0.000       0.022       0.042\n",
      "x68           -0.0157      0.005     -2.892      0.004      -0.026      -0.005\n",
      "x69            0.0239      0.006      4.010      0.000       0.012       0.036\n",
      "x70            0.0367      0.009      4.262      0.000       0.020       0.054\n",
      "x71            0.0429      0.006      7.056      0.000       0.031       0.055\n",
      "x72            0.0348      0.006      5.985      0.000       0.023       0.046\n",
      "x73            0.0236      0.006      3.976      0.000       0.012       0.035\n",
      "x74            0.0710      0.012      5.926      0.000       0.048       0.095\n",
      "x75            0.0528      0.009      6.072      0.000       0.036       0.070\n",
      "x76            0.0409      0.009      4.444      0.000       0.023       0.059\n",
      "x77            0.0087      0.007      1.300      0.194      -0.004       0.022\n",
      "x78            0.0109      0.008      1.433      0.152      -0.004       0.026\n",
      "x79            0.0184      0.012      1.487      0.137      -0.006       0.043\n",
      "x80           -0.0073      0.008     -0.889      0.374      -0.023       0.009\n",
      "x81            0.0055      0.009      0.592      0.554      -0.013       0.024\n",
      "x82            0.0172      0.010      1.760      0.078      -0.002       0.036\n",
      "x83           -0.0033      0.007     -0.445      0.656      -0.018       0.011\n",
      "x84            0.0302      0.008      3.993      0.000       0.015       0.045\n",
      "x85           -0.0014      0.004     -0.350      0.726      -0.009       0.007\n",
      "x86            0.0222      0.006      3.496      0.000       0.010       0.035\n",
      "x87            0.0003      0.006      0.043      0.965      -0.011       0.012\n",
      "x88            0.0008      0.007      0.106      0.916      -0.014       0.015\n",
      "x89           -0.0043      0.006     -0.706      0.480      -0.016       0.008\n",
      "x90            0.0132      0.011      1.166      0.244      -0.009       0.035\n",
      "x91           -0.0135      0.005     -2.782      0.005      -0.023      -0.004\n",
      "x92            0.0002      0.004      0.044      0.965      -0.009       0.009\n",
      "x93            0.0157      0.012      1.304      0.192      -0.008       0.039\n",
      "x94            0.0006      0.009      0.067      0.946      -0.016       0.018\n",
      "x95            0.0098      0.006      1.510      0.131      -0.003       0.022\n",
      "x96           -0.0011      0.011     -0.100      0.920      -0.022       0.020\n",
      "x97           -0.0103      0.009     -1.101      0.271      -0.029       0.008\n",
      "x98            0.0087      0.013      0.662      0.508      -0.017       0.035\n",
      "x99           -0.0037      0.010     -0.355      0.722      -0.024       0.017\n",
      "x100       -5.968e-05      0.004     -0.015      0.988      -0.008       0.008\n",
      "x101           0.0086      0.007      1.266      0.206      -0.005       0.022\n",
      "x102           0.0020      0.010      0.204      0.838      -0.017       0.021\n",
      "x103          -0.0133      0.007     -1.943      0.052      -0.027       0.000\n",
      "x104          -0.0130      0.012     -1.070      0.285      -0.037       0.011\n",
      "x105          -0.0001      0.006     -0.019      0.985      -0.012       0.012\n",
      "x106          -0.0286      0.013     -2.240      0.025      -0.054      -0.004\n",
      "x107          -0.0040      0.005     -0.776      0.438      -0.014       0.006\n",
      "x108          -0.0252      0.010     -2.568      0.010      -0.044      -0.006\n",
      "x109          -0.0103      0.009     -1.180      0.238      -0.027       0.007\n",
      "x110          -0.0295      0.016     -1.854      0.064      -0.061       0.002\n",
      "x111          -0.0079      0.005     -1.586      0.113      -0.018       0.002\n",
      "x112           0.0154      0.004      3.796      0.000       0.007       0.023\n",
      "==============================================================================\n",
      "Omnibus:                      514.316   Durbin-Watson:                   1.937\n",
      "Prob(Omnibus):                  0.000   Jarque-Bera (JB):             4724.056\n",
      "Skew:                          -0.385   Prob(JB):                         0.00\n",
      "Kurtosis:                       8.595   Cond. No.                         40.0\n",
      "==============================================================================\n",
      "\n",
      "Notes:\n",
      "[1] Standard Errors assume that the covariance matrix of the errors is correctly specified.\n"
     ]
    }
   ],
   "source": [
    "import statsmodels.api as sm\n",
    "\n",
    "x_with_const = sm.add_constant(x_scaled)\n",
    "model = sm.OLS(y_log , x_with_const).fit()\n",
    "\n",
    "print(model.summary())"
   ]
  },
  {
   "cell_type": "code",
   "execution_count": null,
   "id": "e4c4c0f2",
   "metadata": {},
   "outputs": [],
   "source": []
  }
 ],
 "metadata": {
  "kernelspec": {
   "display_name": "Python 3 (ipykernel)",
   "language": "python",
   "name": "python3"
  },
  "language_info": {
   "codemirror_mode": {
    "name": "ipython",
    "version": 3
   },
   "file_extension": ".py",
   "mimetype": "text/x-python",
   "name": "python",
   "nbconvert_exporter": "python",
   "pygments_lexer": "ipython3",
   "version": "3.11.3"
  }
 },
 "nbformat": 4,
 "nbformat_minor": 5
}
